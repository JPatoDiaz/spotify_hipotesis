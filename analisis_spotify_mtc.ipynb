{
  "nbformat": 4,
  "nbformat_minor": 0,
  "metadata": {
    "colab": {
      "provenance": [],
      "authorship_tag": "ABX9TyN3P4T2uGq3eCJNtj1/tStd",
      "include_colab_link": true
    },
    "kernelspec": {
      "name": "python3",
      "display_name": "Python 3"
    },
    "language_info": {
      "name": "python"
    }
  },
  "cells": [
    {
      "cell_type": "markdown",
      "metadata": {
        "id": "view-in-github",
        "colab_type": "text"
      },
      "source": [
        "<a href=\"https://colab.research.google.com/github/JPatoDiaz/spotify_hipotesis/blob/main/analisis_spotify_mtc.ipynb\" target=\"_parent\"><img src=\"https://colab.research.google.com/assets/colab-badge.svg\" alt=\"Open In Colab\"/></a>"
      ]
    },
    {
      "cell_type": "code",
      "execution_count": null,
      "metadata": {
        "colab": {
          "base_uri": "https://localhost:8080/",
          "height": 548
        },
        "id": "T43H-fNDvx7D",
        "outputId": "0366e153-5bf9-4677-d135-ab9632b462f1"
      },
      "outputs": [
        {
          "output_type": "display_data",
          "data": {
            "text/plain": [
              "    track_id  artist_count                   artist_name_clean  \\\n",
              "0    7890756             1                            Coldplay   \n",
              "1    3253565             1                          Ed Sheeran   \n",
              "2    6044216             2             Yuridia  Angela Aguilar   \n",
              "3    1404326             1                       Billie Eilish   \n",
              "4    4703367             1                            Labrinth   \n",
              "..       ...           ...                                 ...   \n",
              "939  3476652             1                            Lil Baby   \n",
              "940  7762851             3  Kendrick Lamar  Sam Dew  Baby Keem   \n",
              "941  2969049             2                      Kaliii  Kaliii   \n",
              "942  3035987             2                    Drake  21 Savage   \n",
              "943  4165407             2              MC Caverinha  KayBlack   \n",
              "\n",
              "                                      track_name_clean  streams_clean  \\\n",
              "0                                        The Scientist     1608164312   \n",
              "1                                              Perfect     2559529074   \n",
              "2                                             Qu   Ago      236857112   \n",
              "3    What Was I Made For   From The Motion Picture ...       30546883   \n",
              "4    I m Tired   From  Euphoria  An Original HBO Se...      121913181   \n",
              "..                                                 ...            ...   \n",
              "939                                  California Breeze       85559365   \n",
              "940                                             Savior       86176890   \n",
              "941                                         Area Codes      113509496   \n",
              "942                                              On BS      170413877   \n",
              "943                                          Cart  o B       71573339   \n",
              "\n",
              "    date_complete  in_spotify_playlists  in_spotify_charts  \\\n",
              "0      2002-08-05                 30992                  6   \n",
              "1      2017-01-01                 16596                 13   \n",
              "2      2022-10-20                   660                 15   \n",
              "3      2023-07-13                   873                104   \n",
              "4      2022-02-04                  1888                  0   \n",
              "..            ...                   ...                ...   \n",
              "939    2022-10-14                   991                  0   \n",
              "940    2022-05-13                  2291                  0   \n",
              "941    2023-03-17                  1197                 13   \n",
              "942    2022-11-04                  1338                  0   \n",
              "943    2023-05-11                   269                  4   \n",
              "\n",
              "     in_apple_playlists  in_apple_charts  ...  total_playlists_participation  \\\n",
              "0                   124               25  ...                          38943   \n",
              "1                     7                0  ...                          18697   \n",
              "2                    19               59  ...                            697   \n",
              "3                    80              227  ...                           1048   \n",
              "4                    26                1  ...                           1972   \n",
              "..                  ...              ...  ...                            ...   \n",
              "939                  36               38  ...                           1040   \n",
              "940                   9                0  ...                           2308   \n",
              "941                  44               34  ...                           1266   \n",
              "942                   9               20  ...                           1354   \n",
              "943                   7                2  ...                            306   \n",
              "\n",
              "     category_streams  category_bpm  category_danceability  category_valence  \\\n",
              "0                alto          alto                   bajo              bajo   \n",
              "1                alto          bajo                   bajo              bajo   \n",
              "2                bajo          bajo                   bajo              alto   \n",
              "3                bajo          bajo                   bajo              bajo   \n",
              "4                bajo          bajo                   bajo              bajo   \n",
              "..                ...           ...                    ...               ...   \n",
              "939              bajo          alto                   bajo              bajo   \n",
              "940              bajo          bajo                   bajo              bajo   \n",
              "941              bajo          alto                   alto              bajo   \n",
              "942              bajo          alto                   alto              bajo   \n",
              "943              bajo          bajo                   alto              bajo   \n",
              "\n",
              "     category_energy  category_acousticness  category_instrumentalness  \\\n",
              "0               bajo                   alto                       bajo   \n",
              "1               bajo                   bajo                       bajo   \n",
              "2               bajo                   alto                       alto   \n",
              "3               bajo                   alto                       bajo   \n",
              "4               bajo                   bajo                       alto   \n",
              "..               ...                    ...                        ...   \n",
              "939             bajo                   bajo                       bajo   \n",
              "940             bajo                   alto                       alto   \n",
              "941             bajo                   bajo                       bajo   \n",
              "942             bajo                   bajo                       bajo   \n",
              "943             bajo                   bajo                       bajo   \n",
              "\n",
              "     category_liveness  category_speechiness  \n",
              "0                 bajo                  bajo  \n",
              "1                 bajo                  bajo  \n",
              "2                 bajo                  bajo  \n",
              "3                 bajo                  bajo  \n",
              "4                 alto                  bajo  \n",
              "..                 ...                   ...  \n",
              "939               bajo                  alto  \n",
              "940               alto                  alto  \n",
              "941               bajo                  alto  \n",
              "942               alto                  alto  \n",
              "943               bajo                  alto  \n",
              "\n",
              "[944 rows x 31 columns]"
            ],
            "text/html": [
              "\n",
              "  <div id=\"df-d2c5edb0-29af-47af-ad77-f22c765eb84e\" class=\"colab-df-container\">\n",
              "    <div>\n",
              "<style scoped>\n",
              "    .dataframe tbody tr th:only-of-type {\n",
              "        vertical-align: middle;\n",
              "    }\n",
              "\n",
              "    .dataframe tbody tr th {\n",
              "        vertical-align: top;\n",
              "    }\n",
              "\n",
              "    .dataframe thead th {\n",
              "        text-align: right;\n",
              "    }\n",
              "</style>\n",
              "<table border=\"1\" class=\"dataframe\">\n",
              "  <thead>\n",
              "    <tr style=\"text-align: right;\">\n",
              "      <th></th>\n",
              "      <th>track_id</th>\n",
              "      <th>artist_count</th>\n",
              "      <th>artist_name_clean</th>\n",
              "      <th>track_name_clean</th>\n",
              "      <th>streams_clean</th>\n",
              "      <th>date_complete</th>\n",
              "      <th>in_spotify_playlists</th>\n",
              "      <th>in_spotify_charts</th>\n",
              "      <th>in_apple_playlists</th>\n",
              "      <th>in_apple_charts</th>\n",
              "      <th>...</th>\n",
              "      <th>total_playlists_participation</th>\n",
              "      <th>category_streams</th>\n",
              "      <th>category_bpm</th>\n",
              "      <th>category_danceability</th>\n",
              "      <th>category_valence</th>\n",
              "      <th>category_energy</th>\n",
              "      <th>category_acousticness</th>\n",
              "      <th>category_instrumentalness</th>\n",
              "      <th>category_liveness</th>\n",
              "      <th>category_speechiness</th>\n",
              "    </tr>\n",
              "  </thead>\n",
              "  <tbody>\n",
              "    <tr>\n",
              "      <th>0</th>\n",
              "      <td>7890756</td>\n",
              "      <td>1</td>\n",
              "      <td>Coldplay</td>\n",
              "      <td>The Scientist</td>\n",
              "      <td>1608164312</td>\n",
              "      <td>2002-08-05</td>\n",
              "      <td>30992</td>\n",
              "      <td>6</td>\n",
              "      <td>124</td>\n",
              "      <td>25</td>\n",
              "      <td>...</td>\n",
              "      <td>38943</td>\n",
              "      <td>alto</td>\n",
              "      <td>alto</td>\n",
              "      <td>bajo</td>\n",
              "      <td>bajo</td>\n",
              "      <td>bajo</td>\n",
              "      <td>alto</td>\n",
              "      <td>bajo</td>\n",
              "      <td>bajo</td>\n",
              "      <td>bajo</td>\n",
              "    </tr>\n",
              "    <tr>\n",
              "      <th>1</th>\n",
              "      <td>3253565</td>\n",
              "      <td>1</td>\n",
              "      <td>Ed Sheeran</td>\n",
              "      <td>Perfect</td>\n",
              "      <td>2559529074</td>\n",
              "      <td>2017-01-01</td>\n",
              "      <td>16596</td>\n",
              "      <td>13</td>\n",
              "      <td>7</td>\n",
              "      <td>0</td>\n",
              "      <td>...</td>\n",
              "      <td>18697</td>\n",
              "      <td>alto</td>\n",
              "      <td>bajo</td>\n",
              "      <td>bajo</td>\n",
              "      <td>bajo</td>\n",
              "      <td>bajo</td>\n",
              "      <td>bajo</td>\n",
              "      <td>bajo</td>\n",
              "      <td>bajo</td>\n",
              "      <td>bajo</td>\n",
              "    </tr>\n",
              "    <tr>\n",
              "      <th>2</th>\n",
              "      <td>6044216</td>\n",
              "      <td>2</td>\n",
              "      <td>Yuridia  Angela Aguilar</td>\n",
              "      <td>Qu   Ago</td>\n",
              "      <td>236857112</td>\n",
              "      <td>2022-10-20</td>\n",
              "      <td>660</td>\n",
              "      <td>15</td>\n",
              "      <td>19</td>\n",
              "      <td>59</td>\n",
              "      <td>...</td>\n",
              "      <td>697</td>\n",
              "      <td>bajo</td>\n",
              "      <td>bajo</td>\n",
              "      <td>bajo</td>\n",
              "      <td>alto</td>\n",
              "      <td>bajo</td>\n",
              "      <td>alto</td>\n",
              "      <td>alto</td>\n",
              "      <td>bajo</td>\n",
              "      <td>bajo</td>\n",
              "    </tr>\n",
              "    <tr>\n",
              "      <th>3</th>\n",
              "      <td>1404326</td>\n",
              "      <td>1</td>\n",
              "      <td>Billie Eilish</td>\n",
              "      <td>What Was I Made For   From The Motion Picture ...</td>\n",
              "      <td>30546883</td>\n",
              "      <td>2023-07-13</td>\n",
              "      <td>873</td>\n",
              "      <td>104</td>\n",
              "      <td>80</td>\n",
              "      <td>227</td>\n",
              "      <td>...</td>\n",
              "      <td>1048</td>\n",
              "      <td>bajo</td>\n",
              "      <td>bajo</td>\n",
              "      <td>bajo</td>\n",
              "      <td>bajo</td>\n",
              "      <td>bajo</td>\n",
              "      <td>alto</td>\n",
              "      <td>bajo</td>\n",
              "      <td>bajo</td>\n",
              "      <td>bajo</td>\n",
              "    </tr>\n",
              "    <tr>\n",
              "      <th>4</th>\n",
              "      <td>4703367</td>\n",
              "      <td>1</td>\n",
              "      <td>Labrinth</td>\n",
              "      <td>I m Tired   From  Euphoria  An Original HBO Se...</td>\n",
              "      <td>121913181</td>\n",
              "      <td>2022-02-04</td>\n",
              "      <td>1888</td>\n",
              "      <td>0</td>\n",
              "      <td>26</td>\n",
              "      <td>1</td>\n",
              "      <td>...</td>\n",
              "      <td>1972</td>\n",
              "      <td>bajo</td>\n",
              "      <td>bajo</td>\n",
              "      <td>bajo</td>\n",
              "      <td>bajo</td>\n",
              "      <td>bajo</td>\n",
              "      <td>bajo</td>\n",
              "      <td>alto</td>\n",
              "      <td>alto</td>\n",
              "      <td>bajo</td>\n",
              "    </tr>\n",
              "    <tr>\n",
              "      <th>...</th>\n",
              "      <td>...</td>\n",
              "      <td>...</td>\n",
              "      <td>...</td>\n",
              "      <td>...</td>\n",
              "      <td>...</td>\n",
              "      <td>...</td>\n",
              "      <td>...</td>\n",
              "      <td>...</td>\n",
              "      <td>...</td>\n",
              "      <td>...</td>\n",
              "      <td>...</td>\n",
              "      <td>...</td>\n",
              "      <td>...</td>\n",
              "      <td>...</td>\n",
              "      <td>...</td>\n",
              "      <td>...</td>\n",
              "      <td>...</td>\n",
              "      <td>...</td>\n",
              "      <td>...</td>\n",
              "      <td>...</td>\n",
              "      <td>...</td>\n",
              "    </tr>\n",
              "    <tr>\n",
              "      <th>939</th>\n",
              "      <td>3476652</td>\n",
              "      <td>1</td>\n",
              "      <td>Lil Baby</td>\n",
              "      <td>California Breeze</td>\n",
              "      <td>85559365</td>\n",
              "      <td>2022-10-14</td>\n",
              "      <td>991</td>\n",
              "      <td>0</td>\n",
              "      <td>36</td>\n",
              "      <td>38</td>\n",
              "      <td>...</td>\n",
              "      <td>1040</td>\n",
              "      <td>bajo</td>\n",
              "      <td>alto</td>\n",
              "      <td>bajo</td>\n",
              "      <td>bajo</td>\n",
              "      <td>bajo</td>\n",
              "      <td>bajo</td>\n",
              "      <td>bajo</td>\n",
              "      <td>bajo</td>\n",
              "      <td>alto</td>\n",
              "    </tr>\n",
              "    <tr>\n",
              "      <th>940</th>\n",
              "      <td>7762851</td>\n",
              "      <td>3</td>\n",
              "      <td>Kendrick Lamar  Sam Dew  Baby Keem</td>\n",
              "      <td>Savior</td>\n",
              "      <td>86176890</td>\n",
              "      <td>2022-05-13</td>\n",
              "      <td>2291</td>\n",
              "      <td>0</td>\n",
              "      <td>9</td>\n",
              "      <td>0</td>\n",
              "      <td>...</td>\n",
              "      <td>2308</td>\n",
              "      <td>bajo</td>\n",
              "      <td>bajo</td>\n",
              "      <td>bajo</td>\n",
              "      <td>bajo</td>\n",
              "      <td>bajo</td>\n",
              "      <td>alto</td>\n",
              "      <td>alto</td>\n",
              "      <td>alto</td>\n",
              "      <td>alto</td>\n",
              "    </tr>\n",
              "    <tr>\n",
              "      <th>941</th>\n",
              "      <td>2969049</td>\n",
              "      <td>2</td>\n",
              "      <td>Kaliii  Kaliii</td>\n",
              "      <td>Area Codes</td>\n",
              "      <td>113509496</td>\n",
              "      <td>2023-03-17</td>\n",
              "      <td>1197</td>\n",
              "      <td>13</td>\n",
              "      <td>44</td>\n",
              "      <td>34</td>\n",
              "      <td>...</td>\n",
              "      <td>1266</td>\n",
              "      <td>bajo</td>\n",
              "      <td>alto</td>\n",
              "      <td>alto</td>\n",
              "      <td>bajo</td>\n",
              "      <td>bajo</td>\n",
              "      <td>bajo</td>\n",
              "      <td>bajo</td>\n",
              "      <td>bajo</td>\n",
              "      <td>alto</td>\n",
              "    </tr>\n",
              "    <tr>\n",
              "      <th>942</th>\n",
              "      <td>3035987</td>\n",
              "      <td>2</td>\n",
              "      <td>Drake  21 Savage</td>\n",
              "      <td>On BS</td>\n",
              "      <td>170413877</td>\n",
              "      <td>2022-11-04</td>\n",
              "      <td>1338</td>\n",
              "      <td>0</td>\n",
              "      <td>9</td>\n",
              "      <td>20</td>\n",
              "      <td>...</td>\n",
              "      <td>1354</td>\n",
              "      <td>bajo</td>\n",
              "      <td>alto</td>\n",
              "      <td>alto</td>\n",
              "      <td>bajo</td>\n",
              "      <td>bajo</td>\n",
              "      <td>bajo</td>\n",
              "      <td>bajo</td>\n",
              "      <td>alto</td>\n",
              "      <td>alto</td>\n",
              "    </tr>\n",
              "    <tr>\n",
              "      <th>943</th>\n",
              "      <td>4165407</td>\n",
              "      <td>2</td>\n",
              "      <td>MC Caverinha  KayBlack</td>\n",
              "      <td>Cart  o B</td>\n",
              "      <td>71573339</td>\n",
              "      <td>2023-05-11</td>\n",
              "      <td>269</td>\n",
              "      <td>4</td>\n",
              "      <td>7</td>\n",
              "      <td>2</td>\n",
              "      <td>...</td>\n",
              "      <td>306</td>\n",
              "      <td>bajo</td>\n",
              "      <td>bajo</td>\n",
              "      <td>alto</td>\n",
              "      <td>bajo</td>\n",
              "      <td>bajo</td>\n",
              "      <td>bajo</td>\n",
              "      <td>bajo</td>\n",
              "      <td>bajo</td>\n",
              "      <td>alto</td>\n",
              "    </tr>\n",
              "  </tbody>\n",
              "</table>\n",
              "<p>944 rows × 31 columns</p>\n",
              "</div>\n",
              "    <div class=\"colab-df-buttons\">\n",
              "\n",
              "  <div class=\"colab-df-container\">\n",
              "    <button class=\"colab-df-convert\" onclick=\"convertToInteractive('df-d2c5edb0-29af-47af-ad77-f22c765eb84e')\"\n",
              "            title=\"Convert this dataframe to an interactive table.\"\n",
              "            style=\"display:none;\">\n",
              "\n",
              "  <svg xmlns=\"http://www.w3.org/2000/svg\" height=\"24px\" viewBox=\"0 -960 960 960\">\n",
              "    <path d=\"M120-120v-720h720v720H120Zm60-500h600v-160H180v160Zm220 220h160v-160H400v160Zm0 220h160v-160H400v160ZM180-400h160v-160H180v160Zm440 0h160v-160H620v160ZM180-180h160v-160H180v160Zm440 0h160v-160H620v160Z\"/>\n",
              "  </svg>\n",
              "    </button>\n",
              "\n",
              "  <style>\n",
              "    .colab-df-container {\n",
              "      display:flex;\n",
              "      gap: 12px;\n",
              "    }\n",
              "\n",
              "    .colab-df-convert {\n",
              "      background-color: #E8F0FE;\n",
              "      border: none;\n",
              "      border-radius: 50%;\n",
              "      cursor: pointer;\n",
              "      display: none;\n",
              "      fill: #1967D2;\n",
              "      height: 32px;\n",
              "      padding: 0 0 0 0;\n",
              "      width: 32px;\n",
              "    }\n",
              "\n",
              "    .colab-df-convert:hover {\n",
              "      background-color: #E2EBFA;\n",
              "      box-shadow: 0px 1px 2px rgba(60, 64, 67, 0.3), 0px 1px 3px 1px rgba(60, 64, 67, 0.15);\n",
              "      fill: #174EA6;\n",
              "    }\n",
              "\n",
              "    .colab-df-buttons div {\n",
              "      margin-bottom: 4px;\n",
              "    }\n",
              "\n",
              "    [theme=dark] .colab-df-convert {\n",
              "      background-color: #3B4455;\n",
              "      fill: #D2E3FC;\n",
              "    }\n",
              "\n",
              "    [theme=dark] .colab-df-convert:hover {\n",
              "      background-color: #434B5C;\n",
              "      box-shadow: 0px 1px 3px 1px rgba(0, 0, 0, 0.15);\n",
              "      filter: drop-shadow(0px 1px 2px rgba(0, 0, 0, 0.3));\n",
              "      fill: #FFFFFF;\n",
              "    }\n",
              "  </style>\n",
              "\n",
              "    <script>\n",
              "      const buttonEl =\n",
              "        document.querySelector('#df-d2c5edb0-29af-47af-ad77-f22c765eb84e button.colab-df-convert');\n",
              "      buttonEl.style.display =\n",
              "        google.colab.kernel.accessAllowed ? 'block' : 'none';\n",
              "\n",
              "      async function convertToInteractive(key) {\n",
              "        const element = document.querySelector('#df-d2c5edb0-29af-47af-ad77-f22c765eb84e');\n",
              "        const dataTable =\n",
              "          await google.colab.kernel.invokeFunction('convertToInteractive',\n",
              "                                                    [key], {});\n",
              "        if (!dataTable) return;\n",
              "\n",
              "        const docLinkHtml = 'Like what you see? Visit the ' +\n",
              "          '<a target=\"_blank\" href=https://colab.research.google.com/notebooks/data_table.ipynb>data table notebook</a>'\n",
              "          + ' to learn more about interactive tables.';\n",
              "        element.innerHTML = '';\n",
              "        dataTable['output_type'] = 'display_data';\n",
              "        await google.colab.output.renderOutput(dataTable, element);\n",
              "        const docLink = document.createElement('div');\n",
              "        docLink.innerHTML = docLinkHtml;\n",
              "        element.appendChild(docLink);\n",
              "      }\n",
              "    </script>\n",
              "  </div>\n",
              "\n",
              "\n",
              "<div id=\"df-3d5dd062-8f98-41c5-bfc9-6daff884fe30\">\n",
              "  <button class=\"colab-df-quickchart\" onclick=\"quickchart('df-3d5dd062-8f98-41c5-bfc9-6daff884fe30')\"\n",
              "            title=\"Suggest charts\"\n",
              "            style=\"display:none;\">\n",
              "\n",
              "<svg xmlns=\"http://www.w3.org/2000/svg\" height=\"24px\"viewBox=\"0 0 24 24\"\n",
              "     width=\"24px\">\n",
              "    <g>\n",
              "        <path d=\"M19 3H5c-1.1 0-2 .9-2 2v14c0 1.1.9 2 2 2h14c1.1 0 2-.9 2-2V5c0-1.1-.9-2-2-2zM9 17H7v-7h2v7zm4 0h-2V7h2v10zm4 0h-2v-4h2v4z\"/>\n",
              "    </g>\n",
              "</svg>\n",
              "  </button>\n",
              "\n",
              "<style>\n",
              "  .colab-df-quickchart {\n",
              "      --bg-color: #E8F0FE;\n",
              "      --fill-color: #1967D2;\n",
              "      --hover-bg-color: #E2EBFA;\n",
              "      --hover-fill-color: #174EA6;\n",
              "      --disabled-fill-color: #AAA;\n",
              "      --disabled-bg-color: #DDD;\n",
              "  }\n",
              "\n",
              "  [theme=dark] .colab-df-quickchart {\n",
              "      --bg-color: #3B4455;\n",
              "      --fill-color: #D2E3FC;\n",
              "      --hover-bg-color: #434B5C;\n",
              "      --hover-fill-color: #FFFFFF;\n",
              "      --disabled-bg-color: #3B4455;\n",
              "      --disabled-fill-color: #666;\n",
              "  }\n",
              "\n",
              "  .colab-df-quickchart {\n",
              "    background-color: var(--bg-color);\n",
              "    border: none;\n",
              "    border-radius: 50%;\n",
              "    cursor: pointer;\n",
              "    display: none;\n",
              "    fill: var(--fill-color);\n",
              "    height: 32px;\n",
              "    padding: 0;\n",
              "    width: 32px;\n",
              "  }\n",
              "\n",
              "  .colab-df-quickchart:hover {\n",
              "    background-color: var(--hover-bg-color);\n",
              "    box-shadow: 0 1px 2px rgba(60, 64, 67, 0.3), 0 1px 3px 1px rgba(60, 64, 67, 0.15);\n",
              "    fill: var(--button-hover-fill-color);\n",
              "  }\n",
              "\n",
              "  .colab-df-quickchart-complete:disabled,\n",
              "  .colab-df-quickchart-complete:disabled:hover {\n",
              "    background-color: var(--disabled-bg-color);\n",
              "    fill: var(--disabled-fill-color);\n",
              "    box-shadow: none;\n",
              "  }\n",
              "\n",
              "  .colab-df-spinner {\n",
              "    border: 2px solid var(--fill-color);\n",
              "    border-color: transparent;\n",
              "    border-bottom-color: var(--fill-color);\n",
              "    animation:\n",
              "      spin 1s steps(1) infinite;\n",
              "  }\n",
              "\n",
              "  @keyframes spin {\n",
              "    0% {\n",
              "      border-color: transparent;\n",
              "      border-bottom-color: var(--fill-color);\n",
              "      border-left-color: var(--fill-color);\n",
              "    }\n",
              "    20% {\n",
              "      border-color: transparent;\n",
              "      border-left-color: var(--fill-color);\n",
              "      border-top-color: var(--fill-color);\n",
              "    }\n",
              "    30% {\n",
              "      border-color: transparent;\n",
              "      border-left-color: var(--fill-color);\n",
              "      border-top-color: var(--fill-color);\n",
              "      border-right-color: var(--fill-color);\n",
              "    }\n",
              "    40% {\n",
              "      border-color: transparent;\n",
              "      border-right-color: var(--fill-color);\n",
              "      border-top-color: var(--fill-color);\n",
              "    }\n",
              "    60% {\n",
              "      border-color: transparent;\n",
              "      border-right-color: var(--fill-color);\n",
              "    }\n",
              "    80% {\n",
              "      border-color: transparent;\n",
              "      border-right-color: var(--fill-color);\n",
              "      border-bottom-color: var(--fill-color);\n",
              "    }\n",
              "    90% {\n",
              "      border-color: transparent;\n",
              "      border-bottom-color: var(--fill-color);\n",
              "    }\n",
              "  }\n",
              "</style>\n",
              "\n",
              "  <script>\n",
              "    async function quickchart(key) {\n",
              "      const quickchartButtonEl =\n",
              "        document.querySelector('#' + key + ' button');\n",
              "      quickchartButtonEl.disabled = true;  // To prevent multiple clicks.\n",
              "      quickchartButtonEl.classList.add('colab-df-spinner');\n",
              "      try {\n",
              "        const charts = await google.colab.kernel.invokeFunction(\n",
              "            'suggestCharts', [key], {});\n",
              "      } catch (error) {\n",
              "        console.error('Error during call to suggestCharts:', error);\n",
              "      }\n",
              "      quickchartButtonEl.classList.remove('colab-df-spinner');\n",
              "      quickchartButtonEl.classList.add('colab-df-quickchart-complete');\n",
              "    }\n",
              "    (() => {\n",
              "      let quickchartButtonEl =\n",
              "        document.querySelector('#df-3d5dd062-8f98-41c5-bfc9-6daff884fe30 button');\n",
              "      quickchartButtonEl.style.display =\n",
              "        google.colab.kernel.accessAllowed ? 'block' : 'none';\n",
              "    })();\n",
              "  </script>\n",
              "</div>\n",
              "    </div>\n",
              "  </div>\n"
            ]
          },
          "metadata": {}
        }
      ],
      "source": [
        "import pandas as pd\n",
        "from google.colab import auth\n",
        "from google.cloud import bigquery\n",
        "from IPython.display import display\n",
        "\n",
        "# Autenticación con Google Cloud\n",
        "auth.authenticate_user()\n",
        "\n",
        "# Configurar el cliente de BigQuery\n",
        "project_id = \"canvas-landing-404517\"\n",
        "client = bigquery.Client(project=project_id)\n",
        "\n",
        "# Query para obtener datos de BigQuery\n",
        "query = \"\"\"\n",
        "SELECT *\n",
        "FROM `AnalisisSpotify.complete_data_base_cuartiles`\n",
        "\"\"\"\n",
        "\n",
        "# Ejecutar la consulta y almacenar el resultado en un DataFrame de pandas\n",
        "df = client.query(query).to_dataframe()\n",
        "\n",
        "# Mostrar todo el DataFrame en formato de tabla\n",
        "display(df)"
      ]
    },
    {
      "cell_type": "markdown",
      "source": [
        "**Código para sacar los promedios de las caracteristicas**"
      ],
      "metadata": {
        "id": "wUphjSRM2nkb"
      }
    },
    {
      "cell_type": "code",
      "source": [
        "import pandas as pd\n",
        "import numpy as np"
      ],
      "metadata": {
        "id": "Nm8baxsnv71k"
      },
      "execution_count": null,
      "outputs": []
    },
    {
      "cell_type": "code",
      "source": [
        "#Filtro para elegir las categorias \"alto\" de las caracteristicas\n",
        "#Es necesario hacerlo por cada una de las caracteristicas\n",
        "\n",
        "#Caracteristica_BPM\n",
        "df_filtrado = df.loc[df['category_bpm'] == \"alto\"]\n",
        "#Calcula el promedio\n",
        "promedio_bpm_alto = df_filtrado['streams_clean'].mean()\n",
        "#Solicito que me muestre el resultado\n",
        "print(f\"promedio streams BPM alto:\",promedio_bpm_alto)\n",
        "#Se repite el proceso para hacer el filtro de la categoría \"bajo\"\n",
        "df_filtrado = df.loc[df['category_bpm'] == \"bajo\"]\n",
        "promedio_bpm_bajo = df_filtrado['streams_clean'].mean()\n",
        "print(f\"promedio streams BPM bajo:\",promedio_bpm_alto)\n"
      ],
      "metadata": {
        "colab": {
          "base_uri": "https://localhost:8080/"
        },
        "id": "qAo0H4sLwPSI",
        "outputId": "27cb8658-76c5-4ad0-bdd5-0214c907daae"
      },
      "execution_count": null,
      "outputs": [
        {
          "output_type": "stream",
          "name": "stdout",
          "text": [
            "promedio streams BPM alto: 521966744.8305085\n",
            "promedio streams BPM bajo: 521966744.8305085\n"
          ]
        }
      ]
    },
    {
      "cell_type": "code",
      "source": [
        "# Caracteristica_danceability\n",
        "# Alto\n",
        "df_filtrado_alto = df.loc[df['category_danceability'] == \"alto\"]\n",
        "promedio_danceability_alto = df_filtrado_alto['streams_clean'].mean()\n",
        "print(f\"Promedio de Streams para Danceability alto: {promedio_danceability_alto}\")\n",
        "\n",
        "# Bajo\n",
        "df_filtrado_bajo = df.loc[df['category_danceability'] == \"bajo\"]\n",
        "promedio_danceability_bajo = df_filtrado_bajo['streams_clean'].mean()\n",
        "print(f\"Promedio de Streams para Danceability bajo: {promedio_danceability_bajo}\")"
      ],
      "metadata": {
        "colab": {
          "base_uri": "https://localhost:8080/"
        },
        "id": "nQiDb73mz9AW",
        "outputId": "4ffcf73b-23d1-44b1-8569-f8cfd14af14c"
      },
      "execution_count": null,
      "outputs": [
        {
          "output_type": "stream",
          "name": "stdout",
          "text": [
            "Promedio de Streams para Danceability alto: 422787657.63135594\n",
            "Promedio de Streams para Danceability bajo: 544980822.652051\n"
          ]
        }
      ]
    },
    {
      "cell_type": "code",
      "source": [
        "#Caracteristica_valence\n",
        "#alto\n",
        "df_filtrado = df.loc[df['category_valence'] == \"alto\"]\n",
        "promedio_valence_alto = df_filtrado['streams_clean'].mean()\n",
        "print(f\"Promedio de Streams para valence Alto: {promedio_valence_alto}\")\n",
        "#bajo\n",
        "df_filtrado = df.loc[df['category_valence'] == \"bajo\"]\n",
        "promedio_valence_bajo = df_filtrado['streams_clean'].mean()\n",
        "print(f\"Promedio de Streams para valence bajo: {promedio_valence_alto}\")"
      ],
      "metadata": {
        "colab": {
          "base_uri": "https://localhost:8080/"
        },
        "id": "4J4yfwkRz85g",
        "outputId": "7be0f972-515a-464a-efa7-2d27e836e4a9"
      },
      "execution_count": null,
      "outputs": [
        {
          "output_type": "stream",
          "name": "stdout",
          "text": [
            "Promedio de Streams para valence Alto: 469301541.19148934\n",
            "Promedio de Streams para valence bajo: 469301541.19148934\n"
          ]
        }
      ]
    },
    {
      "cell_type": "code",
      "source": [
        "#Caracteristica_energy\n",
        "#alto\n",
        "df_filtrado = df.loc[df['category_energy'] == \"alto\"]\n",
        "promedio_energy_alto = df_filtrado['streams_clean'].mean()\n",
        "print(f\"Promedio de Streams para energy Alto: {promedio_valence_alto}\")\n",
        "#bajo\n",
        "df_filtrado = df.loc[df['category_energy'] == \"bajo\"]\n",
        "promedio_energy_bajo = df_filtrado['streams_clean'].mean()\n",
        "print(f\"Promedio de Streams para energy bajo: {promedio_valence_alto}\")"
      ],
      "metadata": {
        "colab": {
          "base_uri": "https://localhost:8080/"
        },
        "id": "gnZ6xfvH0t3w",
        "outputId": "8ad000df-bfa0-4814-e41d-73c334403a96"
      },
      "execution_count": null,
      "outputs": [
        {
          "output_type": "stream",
          "name": "stdout",
          "text": [
            "Promedio de Streams para energy Alto: 469301541.19148934\n",
            "Promedio de Streams para energy bajo: 469301541.19148934\n"
          ]
        }
      ]
    },
    {
      "cell_type": "code",
      "source": [
        "#Caracteristica_acousticness\n",
        "#alto\n",
        "df_filtrado = df.loc[df['category_acousticness'] == \"alto\"]\n",
        "promedio_acousticness_alto = df_filtrado['streams_clean'].mean()\n",
        "print(f\"Promedio de Streams para acousticness Alto: {promedio_acousticness_alto}\")\n",
        "#bajo\n",
        "df_filtrado = df.loc[df['category_energy'] == \"bajo\"]\n",
        "promedio_acousticness_bajo = df_filtrado['streams_clean'].mean()\n",
        "print(f\"Promedio de Streams para acousticness bajo: {promedio_acousticness_alto}\")"
      ],
      "metadata": {
        "colab": {
          "base_uri": "https://localhost:8080/"
        },
        "id": "bP95dCeC0-ya",
        "outputId": "05e4252a-a3df-4628-86b8-03d3e779e94f"
      },
      "execution_count": null,
      "outputs": [
        {
          "output_type": "stream",
          "name": "stdout",
          "text": [
            "Promedio de Streams para acousticness Alto: 533921827.2033898\n",
            "Promedio de Streams para acousticness bajo: 533921827.2033898\n"
          ]
        }
      ]
    },
    {
      "cell_type": "code",
      "source": [
        "#Caracteristica_instrumentalness\n",
        "#alto\n",
        "df_filtrado = df.loc[df['category_instrumentalness'] == \"alto\"]\n",
        "promedio_instrumentalness_alto = df_filtrado['streams_clean'].mean()\n",
        "print(f\"Promedio de Streams para instrumentalness Alto: {promedio_instrumentalness_alto}\")\n",
        "#bajo\n",
        "df_filtrado = df.loc[df['category_instrumentalness'] == \"bajo\"]\n",
        "promedio_instrumentalness_bajo = df_filtrado['streams_clean'].mean()\n",
        "print(f\"Promedio de Streams para instrumentalness bajo: {promedio_instrumentalness_alto}\")"
      ],
      "metadata": {
        "colab": {
          "base_uri": "https://localhost:8080/"
        },
        "id": "emjki5Z21GWW",
        "outputId": "f4623d2f-8ae1-49d7-94df-18fb521de487"
      },
      "execution_count": null,
      "outputs": [
        {
          "output_type": "stream",
          "name": "stdout",
          "text": [
            "Promedio de Streams para instrumentalness Alto: 435573613.4788136\n",
            "Promedio de Streams para instrumentalness bajo: 435573613.4788136\n"
          ]
        }
      ]
    },
    {
      "cell_type": "code",
      "source": [
        "#Caracteristica_liveness\n",
        "#alto\n",
        "df_filtrado = df.loc[df['category_liveness'] == \"alto\"]\n",
        "promedio_liveness_alto = df_filtrado['streams_clean'].mean()\n",
        "print(f\"Promedio de Streams para liveness Alto: {promedio_liveness_alto}\")\n",
        "#bajo\n",
        "df_filtrado = df.loc[df['category_liveness'] == \"bajo\"]\n",
        "promedio_liveness_bajo = df_filtrado['streams_clean'].mean()\n",
        "print(f\"Promedio de Streams para liveness bajo: {promedio_liveness_alto}\")"
      ],
      "metadata": {
        "colab": {
          "base_uri": "https://localhost:8080/"
        },
        "id": "8VpYMaxu1MHT",
        "outputId": "c7c64c9b-4288-434e-d917-0658a49125a5"
      },
      "execution_count": null,
      "outputs": [
        {
          "output_type": "stream",
          "name": "stdout",
          "text": [
            "Promedio de Streams para liveness Alto: 486291998.0381356\n",
            "Promedio de Streams para liveness bajo: 486291998.0381356\n"
          ]
        }
      ]
    },
    {
      "cell_type": "code",
      "source": [
        "#Caracteristica_speechiness\n",
        "#alto\n",
        "df_filtrado = df.loc[df['category_speechiness'] == \"alto\"]\n",
        "promedio_speechiness_alto = df_filtrado['streams_clean'].mean()\n",
        "print(f\"Promedio de Streams para speechiness Alto: {promedio_speechiness_alto}\")\n",
        "#bajo\n",
        "df_filtrado = df.loc[df['category_speechiness'] == \"bajo\"]\n",
        "promedio_speechiness_bajo = df_filtrado['streams_clean'].mean()\n",
        "print(f\"Promedio de Streams para speechiness bajo: {promedio_speechiness_alto}\")"
      ],
      "metadata": {
        "colab": {
          "base_uri": "https://localhost:8080/"
        },
        "id": "rSy5v57z1RWL",
        "outputId": "442ac1ea-f7c4-4708-c9f5-6eb36846272d"
      },
      "execution_count": null,
      "outputs": [
        {
          "output_type": "stream",
          "name": "stdout",
          "text": [
            "Promedio de Streams para speechiness Alto: 411533755.0211864\n",
            "Promedio de Streams para speechiness bajo: 411533755.0211864\n"
          ]
        }
      ]
    },
    {
      "cell_type": "markdown",
      "source": [
        "**Prueba Wilcoxon**"
      ],
      "metadata": {
        "id": "68p_qRTg20M3"
      }
    },
    {
      "cell_type": "code",
      "source": [
        "# Importo mis librerías\n",
        "from scipy import stats\n",
        "\n",
        "# BPM\n",
        "datos1 = [promedio_bpm_alto]\n",
        "datos2 = [promedio_bpm_bajo]\n",
        "\n",
        "# Realizar la prueba de Mann-Whitney U\n",
        "estadistica_U, valor_p = stats.mannwhitneyu(datos1, datos2)\n",
        "\n",
        "# Imprimir los resultados\n",
        "print(\"Estadística U BPM:\", estadistica_U)\n",
        "print(\"Valor p BPM:\", valor_p)"
      ],
      "metadata": {
        "colab": {
          "base_uri": "https://localhost:8080/"
        },
        "id": "jDzJwdIL2ZVt",
        "outputId": "9c9345ba-309e-4fb2-bf0a-ca56e9bf93e0"
      },
      "execution_count": null,
      "outputs": [
        {
          "output_type": "stream",
          "name": "stdout",
          "text": [
            "Estadística U BPM: 1.0\n",
            "Valor p BPM: 1.0\n"
          ]
        }
      ]
    },
    {
      "cell_type": "code",
      "source": [
        "# danceability\n",
        "datos1 = [promedio_danceability_alto]\n",
        "datos2 = [promedio_danceability_bajo]\n",
        "estadistica_U, valor_p = stats.mannwhitneyu(datos1, datos2)\n",
        "print(\"Estadística U danceability:\", estadistica_U)\n",
        "print(\"Valor p danceability:\", valor_p)"
      ],
      "metadata": {
        "colab": {
          "base_uri": "https://localhost:8080/"
        },
        "id": "Pg-N2pVX52VM",
        "outputId": "f031f4e4-2596-42e3-b1d5-3fb996f9667e"
      },
      "execution_count": null,
      "outputs": [
        {
          "output_type": "stream",
          "name": "stdout",
          "text": [
            "Estadística U danceability: 0.0\n",
            "Valor p danceability: 1.0\n"
          ]
        }
      ]
    },
    {
      "cell_type": "code",
      "source": [
        "# valence\n",
        "datos1 = [promedio_valence_alto]\n",
        "datos2 = [promedio_valence_bajo]\n",
        "estadistica_U, valor_p = stats.mannwhitneyu(datos1, datos2)\n",
        "print(\"Estadística U valence:\", estadistica_U)\n",
        "print(\"Valor p valence:\", valor_p)"
      ],
      "metadata": {
        "colab": {
          "base_uri": "https://localhost:8080/"
        },
        "id": "USEW-G5J3Fok",
        "outputId": "5445507b-a374-4308-b687-61c21f81d7ea"
      },
      "execution_count": null,
      "outputs": [
        {
          "output_type": "stream",
          "name": "stdout",
          "text": [
            "Estadística U valence: 0.0\n",
            "Valor p valence: 1.0\n"
          ]
        }
      ]
    },
    {
      "cell_type": "code",
      "source": [
        "#energy\n",
        "datos1 = [promedio_energy_alto]\n",
        "datos2 = [promedio_energy_bajo]\n",
        "estadistica_U, valor_p = stats.mannwhitneyu(datos1, datos2)\n",
        "print(\"Estadística U energy:\", estadistica_U)\n",
        "print(\"Valor p energy:\", valor_p)"
      ],
      "metadata": {
        "colab": {
          "base_uri": "https://localhost:8080/"
        },
        "id": "4WKx54sV6Z59",
        "outputId": "0450ed35-cb69-44cf-95e3-29008ff2ba83"
      },
      "execution_count": null,
      "outputs": [
        {
          "output_type": "stream",
          "name": "stdout",
          "text": [
            "Estadística U energy: 0.0\n",
            "Valor p energy: 1.0\n"
          ]
        }
      ]
    },
    {
      "cell_type": "code",
      "source": [
        "#acousticness\n",
        "datos1 = [promedio_acousticness_alto]\n",
        "datos2 = [promedio_acousticness_bajo]\n",
        "estadistica_U, valor_p = stats.mannwhitneyu(datos1, datos2)\n",
        "print(\"Estadística U acousticness:\", estadistica_U)\n",
        "print(\"Valor p acousticness:\", valor_p)"
      ],
      "metadata": {
        "colab": {
          "base_uri": "https://localhost:8080/"
        },
        "id": "EcJNqAcw7Ef3",
        "outputId": "406a5448-e5b2-4435-cb22-75b387e413a1"
      },
      "execution_count": null,
      "outputs": [
        {
          "output_type": "stream",
          "name": "stdout",
          "text": [
            "Estadística U acousticness: 1.0\n",
            "Valor p acousticness: 1.0\n"
          ]
        }
      ]
    },
    {
      "cell_type": "code",
      "source": [
        "#instrumentalness\n",
        "datos1 = [promedio_instrumentalness_alto]\n",
        "datos2 = [promedio_instrumentalness_bajo]\n",
        "estadistica_U, valor_p = stats.mannwhitneyu(datos1, datos2)\n",
        "print(\"Estadística U instrumentalness:\", estadistica_U)\n",
        "print(\"Valor p instrumentalnesss:\", valor_p)"
      ],
      "metadata": {
        "colab": {
          "base_uri": "https://localhost:8080/"
        },
        "id": "Dg074m377VcQ",
        "outputId": "b109cd90-26c7-49e0-b9f7-a8917b0e0161"
      },
      "execution_count": null,
      "outputs": [
        {
          "output_type": "stream",
          "name": "stdout",
          "text": [
            "Estadística U instrumentalness: 0.0\n",
            "Valor p instrumentalnesss: 1.0\n"
          ]
        }
      ]
    },
    {
      "cell_type": "code",
      "source": [
        "#liveness\n",
        "datos1 = [promedio_liveness_alto]\n",
        "datos2 = [promedio_liveness_bajo]\n",
        "estadistica_U, valor_p = stats.mannwhitneyu(datos1, datos2)\n",
        "print(\"Estadística U liveness:\", estadistica_U)\n",
        "print(\"Valor p liveness:\", valor_p)"
      ],
      "metadata": {
        "colab": {
          "base_uri": "https://localhost:8080/"
        },
        "id": "wvNnzkoc7cdN",
        "outputId": "47f7d97f-8b8b-49dd-d331-8bc677c4ffff"
      },
      "execution_count": null,
      "outputs": [
        {
          "output_type": "stream",
          "name": "stdout",
          "text": [
            "Estadística U liveness: 0.0\n",
            "Valor p liveness: 1.0\n"
          ]
        }
      ]
    },
    {
      "cell_type": "code",
      "source": [
        "#speechiness\n",
        "datos1 = [promedio_speechiness_alto]\n",
        "datos2 = [promedio_speechiness_bajo]\n",
        "estadistica_U, valor_p = stats.mannwhitneyu(datos1, datos2)\n",
        "print(\"Estadística U speechiness:\", estadistica_U)\n",
        "print(\"Valor p speechiness:\", valor_p)"
      ],
      "metadata": {
        "colab": {
          "base_uri": "https://localhost:8080/"
        },
        "id": "W5dmUyq67lFj",
        "outputId": "159f7d1b-5688-454a-8ac8-933e98b68777"
      },
      "execution_count": null,
      "outputs": [
        {
          "output_type": "stream",
          "name": "stdout",
          "text": [
            "Estadística U speechiness: 0.0\n",
            "Valor p speechiness: 1.0\n"
          ]
        }
      ]
    },
    {
      "cell_type": "code",
      "source": [
        "# Dashboard por variable\n",
        "caracteristicas_adicionales = ['bpm','danceability','valence', 'energy', 'acousticness', 'instrumentalness', 'liveness', 'speechiness']\n",
        "\n",
        "# Crear un diccionario para almacenar los resultados de cada característica\n",
        "resultados_caracteristicas = {}\n",
        "\n",
        "# Iterar sobre las características adicionales\n",
        "for caracteristica in caracteristicas_adicionales:\n",
        "    # Filtro para la categoría \"alto\" de la característica actual\n",
        "    df_filtrado_alto = df.loc[df[f'category_{caracteristica}'] == \"alto\"]\n",
        "\n",
        "    # Calcula estadísticas para la categoría \"alto\" de la característica actual\n",
        "    promedio_alto = df_filtrado_alto['streams_clean'].mean()\n",
        "    conteo_alto = df_filtrado_alto['streams_clean'].count()\n",
        "    maximo_alto = df_filtrado_alto['streams_clean'].max()\n",
        "    minimo_alto = df_filtrado_alto['streams_clean'].min()\n",
        "    std_alto = df_filtrado_alto['streams_clean'].std()\n",
        "\n",
        "    # Repite el proceso para la categoría \"bajo\" de la característica actual\n",
        "    df_filtrado_bajo = df.loc[df[f'category_{caracteristica}'] == \"bajo\"]\n",
        "    promedio_bajo = df_filtrado_bajo['streams_clean'].mean()\n",
        "    conteo_bajo = df_filtrado_bajo['streams_clean'].count()\n",
        "    maximo_bajo = df_filtrado_bajo['streams_clean'].max()\n",
        "    minimo_bajo = df_filtrado_bajo['streams_clean'].min()\n",
        "    std_bajo = df_filtrado_bajo['streams_clean'].std()\n",
        "\n",
        "    # Crea una scorecard ampliada para la característica actual sin mediana y moda\n",
        "    scorecard = pd.DataFrame({\n",
        "        'Categoría': ['Alto', 'Bajo'],\n",
        "        'Conteo': [conteo_alto, conteo_bajo],\n",
        "        'Promedio': [promedio_alto, promedio_bajo],\n",
        "        'Máximo': [maximo_alto, maximo_bajo],\n",
        "        'Mínimo': [minimo_alto, minimo_bajo],\n",
        "        'Desviación Estándar': [std_alto, std_bajo]\n",
        "    })\n",
        "\n",
        "    # Almacena la scorecard en el diccionario de resultados\n",
        "    resultados_caracteristicas[caracteristica] = scorecard\n",
        "\n",
        "# Imprime las scorecards para cada característica\n",
        "for caracteristica, scorecard in resultados_caracteristicas.items():\n",
        "    print(f\"\\nScorecard para {caracteristica}:\\n{scorecard}\")"
      ],
      "metadata": {
        "colab": {
          "base_uri": "https://localhost:8080/"
        },
        "id": "l3qPGamhBfcn",
        "outputId": "0c7ceeec-295d-4ccc-974a-ad5958ad4f2b"
      },
      "execution_count": null,
      "outputs": [
        {
          "output_type": "stream",
          "name": "stdout",
          "text": [
            "\n",
            "Scorecard para bpm:\n",
            "  Categoría  Conteo      Promedio      Máximo   Mínimo  Desviación Estándar\n",
            "0      Alto     236  5.219667e+08  3703895074     2762         5.673777e+08\n",
            "1      Bajo     707  5.118744e+08  3562543890  1365184         5.701031e+08\n",
            "\n",
            "Scorecard para danceability:\n",
            "  Categoría  Conteo      Promedio      Máximo   Mínimo  Desviación Estándar\n",
            "0      Alto     236  4.227877e+08  3562543890  1365184         4.810810e+08\n",
            "1      Bajo     707  5.449808e+08  3703895074     2762         5.928051e+08\n",
            "\n",
            "Scorecard para valence:\n",
            "  Categoría  Conteo      Promedio      Máximo   Mínimo  Desviación Estándar\n",
            "0      Alto     235  4.693015e+08  3562543890     2762         5.368347e+08\n",
            "1      Bajo     708  5.293693e+08  3703895074  1365184         5.790516e+08\n",
            "\n",
            "Scorecard para energy:\n",
            "  Categoría  Conteo      Promedio      Máximo    Mínimo  Desviación Estándar\n",
            "0      Alto     236  5.003090e+08  3703895074  11599388         5.720917e+08\n",
            "1      Bajo     707  5.191038e+08  3562543890      2762         5.684774e+08\n",
            "\n",
            "Scorecard para acousticness:\n",
            "  Categoría  Conteo      Promedio      Máximo    Mínimo  Desviación Estándar\n",
            "0      Alto     236  5.339218e+08  3562543890  16011326         6.279464e+08\n",
            "1      Bajo     707  5.078837e+08  3703895074      2762         5.484289e+08\n",
            "\n",
            "Scorecard para instrumentalness:\n",
            "  Categoría  Conteo      Promedio      Máximo    Mínimo  Desviación Estándar\n",
            "0      Alto     236  4.355736e+08  2484812918  14780425         4.506042e+08\n",
            "1      Bajo     707  5.407128e+08  3703895074      2762         6.015322e+08\n",
            "\n",
            "Scorecard para liveness:\n",
            "  Categoría  Conteo      Promedio      Máximo   Mínimo  Desviación Estándar\n",
            "0      Alto     236  4.862920e+08  2713922350  1365184         5.410570e+08\n",
            "1      Bajo     707  5.237828e+08  3703895074     2762         5.782750e+08\n",
            "\n",
            "Scorecard para speechiness:\n",
            "  Categoría  Conteo      Promedio      Máximo    Mínimo  Desviación Estándar\n",
            "0      Alto     236  4.115338e+08  2565529693  11956641         4.481615e+08\n",
            "1      Bajo     707  5.487374e+08  3703895074      2762         6.005200e+08\n"
          ]
        }
      ]
    }
  ]
}